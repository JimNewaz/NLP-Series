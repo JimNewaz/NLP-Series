{
  "nbformat": 4,
  "nbformat_minor": 0,
  "metadata": {
    "colab": {
      "provenance": [],
      "authorship_tag": "ABX9TyNTeyiKPOSMb0i09cGsm5IA",
      "include_colab_link": true
    },
    "kernelspec": {
      "name": "python3",
      "display_name": "Python 3"
    },
    "language_info": {
      "name": "python"
    }
  },
  "cells": [
    {
      "cell_type": "markdown",
      "metadata": {
        "id": "view-in-github",
        "colab_type": "text"
      },
      "source": [
        "<a href=\"https://colab.research.google.com/github/JimNewaz/NLP-Series/blob/main/Word_Embedding(word2vec).ipynb\" target=\"_parent\"><img src=\"https://colab.research.google.com/assets/colab-badge.svg\" alt=\"Open In Colab\"/></a>"
      ]
    },
    {
      "cell_type": "code",
      "execution_count": 2,
      "metadata": {
        "colab": {
          "base_uri": "https://localhost:8080/"
        },
        "id": "iCplU62nuNUP",
        "outputId": "3f40fd10-7299-4076-bbf4-3e701a919c56"
      },
      "outputs": [
        {
          "output_type": "stream",
          "name": "stdout",
          "text": [
            "[==================================================] 100.0% 1662.8/1662.8MB downloaded\n"
          ]
        }
      ],
      "source": [
        "import numpy as np\n",
        "from sklearn.manifold import TSNE\n",
        "import matplotlib.pyplot as plt\n",
        "\n",
        "# Word2vec google api\n",
        "import gensim.downloader as api\n",
        "word2vec_model = api.load('word2vec-google-news-300')"
      ]
    },
    {
      "cell_type": "code",
      "source": [
        "word2vec_model[\"sarcasm\"]"
      ],
      "metadata": {
        "colab": {
          "base_uri": "https://localhost:8080/"
        },
        "id": "p54SYO0Yyexk",
        "outputId": "7b4c8476-ee92-40b3-af1e-6f0c72297e55"
      },
      "execution_count": 4,
      "outputs": [
        {
          "output_type": "execute_result",
          "data": {
            "text/plain": [
              "array([ 0.609375  , -0.16015625,  0.19042969,  0.10498047, -0.21582031,\n",
              "        0.19921875, -0.07275391,  0.12988281,  0.27539062,  0.03881836,\n",
              "       -0.12597656, -0.08935547,  0.14355469,  0.3203125 , -0.04541016,\n",
              "       -0.13085938, -0.09082031,  0.14550781, -0.23046875, -0.31054688,\n",
              "       -0.06445312,  0.03881836,  0.57421875, -0.1328125 ,  0.04101562,\n",
              "       -0.06298828, -0.13085938,  0.30859375, -0.13378906,  0.1640625 ,\n",
              "       -0.19628906,  0.05273438,  0.03417969, -0.10888672,  0.01507568,\n",
              "        0.06933594,  0.13476562,  0.01855469,  0.04931641,  0.15625   ,\n",
              "        0.48828125, -0.24902344,  0.17089844, -0.04931641, -0.07470703,\n",
              "        0.15234375, -0.21191406,  0.10742188, -0.31445312,  0.27148438,\n",
              "       -0.49023438,  0.29882812, -0.19238281, -0.12792969,  0.12890625,\n",
              "        0.20410156, -0.20019531,  0.11328125, -0.08203125, -0.24609375,\n",
              "       -0.19824219, -0.046875  ,  0.09179688, -0.05102539, -0.21679688,\n",
              "        0.02307129, -0.29101562, -0.18261719, -0.41210938,  0.43359375,\n",
              "        0.13574219,  0.00238037, -0.02160645, -0.04614258,  0.04833984,\n",
              "       -0.08691406,  0.13183594,  0.125     ,  0.20996094,  0.26757812,\n",
              "        0.17773438,  0.12060547, -0.14160156, -0.265625  , -0.08251953,\n",
              "       -0.11376953,  0.09814453,  0.43554688, -0.01300049,  0.171875  ,\n",
              "       -0.28710938,  0.01116943, -0.33789062,  0.27734375, -0.26757812,\n",
              "        0.18359375,  0.12988281,  0.06176758, -0.10742188,  0.02832031,\n",
              "       -0.15527344, -0.0390625 ,  0.16015625, -0.21386719, -0.05541992,\n",
              "       -0.04321289,  0.01757812, -0.00775146,  0.26953125, -0.13183594,\n",
              "       -0.5546875 , -0.27539062, -0.46484375,  0.13378906,  0.11328125,\n",
              "       -0.13964844,  0.49609375, -0.20703125,  0.08300781,  0.01477051,\n",
              "       -0.26757812,  0.24023438, -0.04370117,  0.16699219,  0.12890625,\n",
              "        0.00656128, -0.03344727, -0.26953125,  0.1796875 , -0.25976562,\n",
              "       -0.5       , -0.09716797, -0.2578125 , -0.01092529, -0.12304688,\n",
              "        0.3046875 ,  0.390625  ,  0.16503906,  0.11816406, -0.06396484,\n",
              "        0.26367188, -0.3671875 , -0.14257812, -0.17382812,  0.05712891,\n",
              "       -0.15234375, -0.13671875,  0.10791016,  0.00689697,  0.10742188,\n",
              "        0.06982422,  0.22167969, -0.12890625,  0.15039062, -0.12988281,\n",
              "       -0.31640625,  0.0625    , -0.11425781, -0.16113281, -0.09960938,\n",
              "        0.00448608,  0.09472656, -0.01733398,  0.08789062, -0.01013184,\n",
              "       -0.17871094, -0.01989746,  0.04980469,  0.00297546,  0.44335938,\n",
              "        0.47460938, -0.04541016, -0.04760742,  0.20800781,  0.08154297,\n",
              "        0.12011719,  0.08105469, -0.21386719, -0.08496094, -0.27148438,\n",
              "       -0.03027344,  0.29492188, -0.26757812,  0.44335938, -0.17773438,\n",
              "        0.12353516, -0.22558594, -0.39648438,  0.00537109,  0.09472656,\n",
              "       -0.13671875,  0.06005859, -0.09423828,  0.07275391, -0.11083984,\n",
              "        0.3984375 , -0.23242188, -0.03491211, -0.10253906,  0.390625  ,\n",
              "       -0.23242188,  0.08203125, -0.15527344,  0.27929688,  0.14746094,\n",
              "       -0.15234375, -0.22949219,  0.15917969, -0.09326172, -0.04785156,\n",
              "        0.07568359, -0.23046875,  0.0133667 ,  0.03417969, -0.23632812,\n",
              "       -0.02783203, -0.140625  ,  0.2890625 , -0.23632812,  0.03149414,\n",
              "        0.03808594,  0.13574219,  0.00686646, -0.2578125 ,  0.11914062,\n",
              "        0.13183594,  0.02563477, -0.09277344, -0.11621094, -0.13183594,\n",
              "        0.078125  ,  0.28320312, -0.29492188,  0.20410156,  0.2890625 ,\n",
              "       -0.11181641, -0.04370117,  0.26953125,  0.39257812,  0.07763672,\n",
              "        0.17285156, -0.12451172,  0.15429688, -0.07910156,  0.10742188,\n",
              "        0.04882812,  0.16601562,  0.17382812,  0.140625  ,  0.17773438,\n",
              "        0.11669922,  0.01116943, -0.20214844,  0.37304688, -0.0019989 ,\n",
              "        0.02233887, -0.09863281, -0.21972656, -0.16015625, -0.01574707,\n",
              "        0.13769531,  0.078125  , -0.04833984,  0.10107422,  0.07177734,\n",
              "        0.02001953,  0.328125  , -0.20898438,  0.08691406, -0.12890625,\n",
              "       -0.17089844,  0.15234375,  0.02661133, -0.01660156,  0.29492188,\n",
              "        0.15039062,  0.00958252,  0.10351562,  0.30273438,  0.26953125,\n",
              "        0.13769531, -0.25390625,  0.29882812,  0.33007812,  0.14648438,\n",
              "       -0.4140625 ,  0.02368164, -0.00686646, -0.10839844, -0.00860596,\n",
              "       -0.04003906, -0.22167969, -0.00668335, -0.16992188,  0.10986328,\n",
              "       -0.2734375 ,  0.25390625,  0.07421875, -0.09228516,  0.04345703],\n",
              "      dtype=float32)"
            ]
          },
          "metadata": {},
          "execution_count": 4
        }
      ]
    },
    {
      "cell_type": "markdown",
      "source": [
        "## W2V understand the meanings of words"
      ],
      "metadata": {
        "id": "lH8sUyQCy8R6"
      }
    },
    {
      "cell_type": "code",
      "source": [
        "word2vec_model.most_similar(\"sarcasm\")"
      ],
      "metadata": {
        "colab": {
          "base_uri": "https://localhost:8080/"
        },
        "id": "Y82oMR1ky4q5",
        "outputId": "1ef49814-6246-43d0-c821-54c3a60993f1"
      },
      "execution_count": 5,
      "outputs": [
        {
          "output_type": "execute_result",
          "data": {
            "text/plain": [
              "[('snark', 0.653512716293335),\n",
              " ('humor', 0.6242319941520691),\n",
              " ('sarcastic', 0.6220388412475586),\n",
              " ('self_deprecating_humor', 0.6171834468841553),\n",
              " ('self_deprecation', 0.607752799987793),\n",
              " ('condescension', 0.6044954061508179),\n",
              " ('snarkiness', 0.5990619659423828),\n",
              " ('irony', 0.5971056818962097),\n",
              " ('facetiousness', 0.5904334783554077),\n",
              " ('wit', 0.5846673250198364)]"
            ]
          },
          "metadata": {},
          "execution_count": 5
        }
      ]
    },
    {
      "cell_type": "markdown",
      "source": [
        "## Test queen - girl + boy = king"
      ],
      "metadata": {
        "id": "I7FmNT9Cz8Vb"
      }
    },
    {
      "cell_type": "code",
      "source": [
        "word2vec_model.most_similar(positive=['boy', 'queen'], negative=['girl'])"
      ],
      "metadata": {
        "colab": {
          "base_uri": "https://localhost:8080/"
        },
        "id": "jk-SFIIQ0D_J",
        "outputId": "11f6bd4c-89f8-4ce8-a3b6-69bf239f061b"
      },
      "execution_count": 7,
      "outputs": [
        {
          "output_type": "execute_result",
          "data": {
            "text/plain": [
              "[('king', 0.7298422455787659),\n",
              " ('queens', 0.6158193349838257),\n",
              " ('kings', 0.6095129251480103),\n",
              " ('monarch', 0.6066232919692993),\n",
              " ('princess', 0.5654319524765015),\n",
              " ('prince', 0.5591371059417725),\n",
              " ('royal', 0.5565179586410522),\n",
              " ('NYC_anglophiles_aflutter', 0.5358611345291138),\n",
              " ('Queen', 0.5305615067481995),\n",
              " ('very_pampered_McElhatton', 0.5251961350440979)]"
            ]
          },
          "metadata": {},
          "execution_count": 7
        }
      ]
    },
    {
      "cell_type": "code",
      "source": [
        "word2vec_model.most_similar(positive=['boy', 'queen'], negative=['girl'], topn=1)"
      ],
      "metadata": {
        "colab": {
          "base_uri": "https://localhost:8080/"
        },
        "id": "6zpv91Zfz51y",
        "outputId": "6463b270-a869-4b56-aa1c-e01dada5e83e"
      },
      "execution_count": 6,
      "outputs": [
        {
          "output_type": "execute_result",
          "data": {
            "text/plain": [
              "[('king', 0.7298422455787659)]"
            ]
          },
          "metadata": {},
          "execution_count": 6
        }
      ]
    },
    {
      "cell_type": "code",
      "source": [
        "vocab = [\"boy\", \"girl\", \"man\", \"woman\", \"king\", \"queen\", \"banana\", \"apple\", \"mango\", \"fruit\", \"coconut\", \"orange\"]\n",
        "\n",
        "def tsne_plot(model):\n",
        "    labels = []\n",
        "    wordvecs = []\n",
        "\n",
        "    for word in vocab:\n",
        "        wordvecs.append(model[word])\n",
        "        labels.append(word)\n",
        "    \n",
        "    tsne_model = TSNE(perplexity=3, n_components=2, init='pca', random_state=42)\n",
        "    coordinates = tsne_model.fit_transform(wordvecs)\n",
        "\n",
        "    x = []\n",
        "    y = []\n",
        "    for value in coordinates:\n",
        "        x.append(value[0])\n",
        "        y.append(value[1])\n",
        "        \n",
        "    plt.figure(figsize=(8,8)) \n",
        "    for i in range(len(x)):\n",
        "        plt.scatter(x[i],y[i])\n",
        "        plt.annotate(labels[i],\n",
        "                     xy=(x[i], y[i]),\n",
        "                     xytext=(2, 2),\n",
        "                     textcoords='offset points',\n",
        "                     ha='right',\n",
        "                     va='bottom')\n",
        "    plt.show()\n",
        "\n",
        "tsne_plot(word2vec_model)"
      ],
      "metadata": {
        "colab": {
          "base_uri": "https://localhost:8080/",
          "height": 572
        },
        "id": "WFT97tvW0J4C",
        "outputId": "65b52c10-985d-40ec-b440-2c131761f0a6"
      },
      "execution_count": 8,
      "outputs": [
        {
          "output_type": "stream",
          "name": "stderr",
          "text": [
            "/usr/local/lib/python3.7/dist-packages/sklearn/manifold/_t_sne.py:793: FutureWarning: The default learning rate in TSNE will change from 200.0 to 'auto' in 1.2.\n",
            "  FutureWarning,\n",
            "/usr/local/lib/python3.7/dist-packages/sklearn/manifold/_t_sne.py:986: FutureWarning: The PCA initialization in TSNE will change to have the standard deviation of PC1 equal to 1e-4 in 1.2. This will ensure better convergence.\n",
            "  FutureWarning,\n"
          ]
        },
        {
          "output_type": "display_data",
          "data": {
            "text/plain": [
              "<Figure size 576x576 with 1 Axes>"
            ],
            "image/png": "[encoded data removed]"
          },
          "metadata": {
            "needs_background": "light"
          }
        }
      ]
    }
  ]
}