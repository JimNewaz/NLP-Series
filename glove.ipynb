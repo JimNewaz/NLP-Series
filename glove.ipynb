{
  "nbformat": 4,
  "nbformat_minor": 0,
  "metadata": {
    "colab": {
      "provenance": [],
      "authorship_tag": "ABX9TyMNBoxB+TSxLHtYDYUK0W/7",
      "include_colab_link": true
    },
    "kernelspec": {
      "name": "python3",
      "display_name": "Python 3"
    },
    "language_info": {
      "name": "python"
    }
  },
  "cells": [
    {
      "cell_type": "markdown",
      "metadata": {
        "id": "view-in-github",
        "colab_type": "text"
      },
      "source": [
        "<a href=\"https://colab.research.google.com/github/JimNewaz/NLP-Series/blob/main/glove.ipynb\" target=\"_parent\"><img src=\"https://colab.research.google.com/assets/colab-badge.svg\" alt=\"Open In Colab\"/></a>"
      ]
    },
    {
      "cell_type": "code",
      "execution_count": null,
      "metadata": {
        "colab": {
          "base_uri": "https://localhost:8080/"
        },
        "id": "Pife3eIl_FI1",
        "outputId": "8ce5168f-0f6a-49dd-8d90-0820bea8c45b"
      },
      "outputs": [
        {
          "output_type": "stream",
          "name": "stdout",
          "text": [
            "[==================================================] 100.0% 376.1/376.1MB downloaded\n"
          ]
        }
      ],
      "source": [
        "import numpy as np\n",
        "from sklearn.manifold import TSNE\n",
        "import matplotlib.pyplot as plt\n",
        "\n",
        "import gensim.downloader as api\n",
        "glove_model = api.load('glove-wiki-gigaword-300')"
      ]
    },
    {
      "cell_type": "code",
      "source": [
        "glove_model[\"sarcasm\"]"
      ],
      "metadata": {
        "colab": {
          "base_uri": "https://localhost:8080/"
        },
        "id": "Vs5YVPqkAS18",
        "outputId": "e00d5af7-731f-4735-e3f9-ce921f170497"
      },
      "execution_count": null,
      "outputs": [
        {
          "output_type": "execute_result",
          "data": {
            "text/plain": [
              "array([-0.39485  , -0.047207 ,  0.49522  ,  0.45164  , -0.075294 ,\n",
              "       -0.026873 ,  0.16358  , -0.6752   ,  0.23672  , -0.11616  ,\n",
              "        0.017    ,  0.14207  , -0.57842  , -0.12115  ,  0.668    ,\n",
              "        0.54039  , -0.023251 , -0.010951 ,  0.21742  , -0.1409   ,\n",
              "        0.46659  ,  0.10797  , -0.023445 , -0.22251  , -0.52934  ,\n",
              "       -0.26212  ,  0.80097  ,  0.27452  , -0.25782  ,  0.21083  ,\n",
              "       -0.43352  , -0.46866  , -0.22725  ,  0.57748  ,  0.42559  ,\n",
              "        0.040984 , -0.95178  , -0.34284  ,  0.27032  ,  0.31932  ,\n",
              "        0.22256  ,  0.10216  ,  0.4024   , -0.29178  ,  0.64267  ,\n",
              "        0.15176  , -0.15207  ,  0.12838  , -0.58268  , -0.48353  ,\n",
              "       -0.12372  ,  0.49967  ,  0.74322  , -0.047477 , -0.37838  ,\n",
              "        0.20182  , -0.20901  , -0.09617  ,  0.57492  , -0.04032  ,\n",
              "        0.34025  ,  0.018011 , -0.092072 , -0.046938 , -0.21063  ,\n",
              "       -0.12938  , -0.0026253,  0.095695 ,  0.53579  , -0.0034975,\n",
              "       -0.044565 , -0.1596   ,  0.77916  , -0.073665 ,  0.02908  ,\n",
              "       -0.14497  ,  0.57     ,  0.66453  , -0.28879  ,  0.09712  ,\n",
              "        0.35125  ,  0.075462 ,  0.30638  , -0.42539  , -0.091685 ,\n",
              "       -0.37211  , -0.32279  , -0.40666  ,  0.14453  ,  0.27966  ,\n",
              "       -0.33294  , -0.25374  ,  0.065191 , -0.21028  ,  0.25989  ,\n",
              "       -0.52502  , -0.45304  , -0.097149 ,  0.15553  ,  0.036363 ,\n",
              "        0.11878  ,  0.055464 , -0.26913  ,  0.37181  ,  0.0065078,\n",
              "        0.28923  , -0.14982  ,  0.38204  , -0.070424 , -0.065293 ,\n",
              "       -0.080972 , -0.30566  ,  0.15641  ,  0.071009 ,  0.38496  ,\n",
              "        0.43501  , -0.60362  ,  0.08949  ,  0.19556  , -0.18054  ,\n",
              "       -0.75418  , -0.72181  , -0.67204  ,  0.62617  , -0.70572  ,\n",
              "       -0.56825  ,  0.31154  ,  0.20891  ,  0.60188  ,  0.044552 ,\n",
              "        0.29887  , -0.081248 ,  0.22501  ,  0.59899  , -0.57023  ,\n",
              "        0.3739   , -0.50626  ,  0.26226  ,  0.59376  ,  0.018177 ,\n",
              "        0.36677  , -0.30109  , -0.16568  , -0.26667  ,  0.44575  ,\n",
              "       -0.39022  ,  0.17972  ,  0.18525  , -0.32183  ,  0.36628  ,\n",
              "       -0.79066  , -0.043002 , -0.62943  ,  0.29023  ,  0.026013 ,\n",
              "        0.19384  ,  0.60387  , -0.18935  ,  0.63633  ,  0.31927  ,\n",
              "        0.69335  ,  0.024509 ,  0.35066  , -0.18986  , -0.13018  ,\n",
              "        0.10511  ,  0.33382  ,  0.049936 , -0.12469  , -0.66532  ,\n",
              "        0.17376  ,  0.41667  , -0.46843  ,  0.36033  , -0.19867  ,\n",
              "        0.038123 ,  0.045484 , -0.18282  ,  0.20938  , -0.33848  ,\n",
              "        0.6572   ,  0.081979 ,  0.097737 ,  0.24129  , -0.71025  ,\n",
              "        0.16635  ,  0.6565   ,  0.075536 ,  0.0040834, -0.40983  ,\n",
              "       -0.24002  , -0.3887   , -0.083694 , -0.11417  ,  0.0049595,\n",
              "       -0.088898 , -0.80419  ,  0.078601 ,  0.39377  , -0.23506  ,\n",
              "       -0.48214  , -0.33888  ,  0.19076  , -0.27371  , -0.18264  ,\n",
              "        0.61063  , -0.096898 ,  0.5237   , -0.22961  , -0.20593  ,\n",
              "       -0.050036 ,  0.1256   ,  0.048388 , -0.17606  , -0.54283  ,\n",
              "       -0.30375  ,  0.49032  , -0.22299  , -0.11552  ,  0.027741 ,\n",
              "       -0.64952  ,  0.7532   ,  0.10434  ,  0.26652  , -0.02005  ,\n",
              "        0.25825  ,  0.032388 , -0.099071 ,  0.043264 , -0.44243  ,\n",
              "        0.1228   , -0.42548  ,  0.26891  , -0.26003  , -0.47401  ,\n",
              "       -0.05023  ,  0.055432 , -0.31881  , -0.57993  ,  0.13129  ,\n",
              "       -0.51419  ,  0.40991  , -0.34677  ,  0.35394  ,  0.13618  ,\n",
              "       -0.028683 , -0.55196  , -0.099592 , -0.20714  , -0.61476  ,\n",
              "       -0.053004 , -0.53302  ,  0.37789  , -0.35832  , -0.27093  ,\n",
              "       -0.14523  ,  0.45627  , -0.32618  , -0.44519  , -0.253    ,\n",
              "        0.13869  , -0.23437  , -0.25485  ,  0.34103  , -0.37726  ,\n",
              "        0.57675  , -0.13799  , -0.23736  , -0.23146  ,  0.36328  ,\n",
              "        0.57025  ,  0.21766  , -0.25291  ,  0.038648 , -0.016637 ,\n",
              "       -0.36803  ,  0.56857  ,  0.25697  ,  0.047379 , -0.68202  ,\n",
              "       -0.41474  ,  0.021183 , -0.083307 , -0.013404 ,  0.38728  ,\n",
              "        0.016539 , -0.1786   , -0.61832  ,  0.34127  ,  0.32985  ,\n",
              "        0.16806  ,  0.67978  ,  0.41099  , -0.1116   ,  0.20077  ,\n",
              "       -0.64582  , -0.12649  , -0.056681 , -0.20116  , -0.039663 ],\n",
              "      dtype=float32)"
            ]
          },
          "metadata": {},
          "execution_count": 2
        }
      ]
    },
    {
      "cell_type": "code",
      "source": [
        "glove_model.most_similar(\"sarcasm\")"
      ],
      "metadata": {
        "colab": {
          "base_uri": "https://localhost:8080/"
        },
        "id": "pdlgc1SHAV1a",
        "outputId": "18999b89-8bd7-4b96-8c90-2053430ba84a"
      },
      "execution_count": null,
      "outputs": [
        {
          "output_type": "execute_result",
          "data": {
            "text/plain": [
              "[('irony', 0.6803990602493286),\n",
              " ('sarcastic', 0.5998893976211548),\n",
              " ('wry', 0.5982927083969116),\n",
              " ('sardonic', 0.5883033275604248),\n",
              " ('wit', 0.570685088634491),\n",
              " ('condescension', 0.5640851259231567),\n",
              " ('cynicism', 0.5626624822616577),\n",
              " ('humour', 0.5518166422843933),\n",
              " ('deadpan', 0.5473425388336182),\n",
              " ('deprecating', 0.5359240174293518)]"
            ]
          },
          "metadata": {},
          "execution_count": 3
        }
      ]
    },
    {
      "cell_type": "code",
      "source": [
        "vocab = [\"boy\", \"girl\", \"man\", \"woman\", \"king\", \"queen\", \"banana\", \"apple\", \"mango\", \"fruit\", \"coconut\", \"orange\", \"happy\" , \"sad\" , \"anger\", \"cry\"]\n",
        "\n",
        "def tsne_plot(model):\n",
        "    labels = []\n",
        "    wordvecs = []\n",
        "\n",
        "    for word in vocab:\n",
        "        wordvecs.append(model[word])\n",
        "        labels.append(word)\n",
        "    \n",
        "    tsne_model = TSNE(perplexity=3, n_components=2, init='pca', random_state=42)\n",
        "    coordinates = tsne_model.fit_transform(wordvecs)\n",
        "\n",
        "    x = []\n",
        "    y = []\n",
        "    for value in coordinates:\n",
        "        x.append(value[0])\n",
        "        y.append(value[1])\n",
        "        \n",
        "    plt.figure(figsize=(8,8)) \n",
        "    for i in range(len(x)):\n",
        "        plt.scatter(x[i],y[i])\n",
        "        plt.annotate(labels[i],\n",
        "                     xy=(x[i], y[i]),\n",
        "                     xytext=(2, 2),\n",
        "                     textcoords='offset points',\n",
        "                     ha='right',\n",
        "                     va='bottom')\n",
        "    plt.show()\n",
        "\n",
        "tsne_plot(glove_model)"
      ],
      "metadata": {
        "colab": {
          "base_uri": "https://localhost:8080/",
          "height": 572
        },
        "id": "SLjtN2khAbTa",
        "outputId": "be93e7a0-8afd-49ce-8105-1608214d984d"
      },
      "execution_count": null,
      "outputs": [
        {
          "output_type": "stream",
          "name": "stderr",
          "text": [
            "/usr/local/lib/python3.7/dist-packages/sklearn/manifold/_t_sne.py:793: FutureWarning: The default learning rate in TSNE will change from 200.0 to 'auto' in 1.2.\n",
            "  FutureWarning,\n",
            "/usr/local/lib/python3.7/dist-packages/sklearn/manifold/_t_sne.py:986: FutureWarning: The PCA initialization in TSNE will change to have the standard deviation of PC1 equal to 1e-4 in 1.2. This will ensure better convergence.\n",
            "  FutureWarning,\n"
          ]
        },
        {
          "output_type": "display_data",
          "data": {
            "text/plain": [
              "<Figure size 576x576 with 1 Axes>"
            ],
            "image/png": "[encoded data removed]"
          },
          "metadata": {
            "needs_background": "light"
          }
        }
      ]
    }
  ]
}